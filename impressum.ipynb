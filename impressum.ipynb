{
 "cells": [
  {
   "cell_type": "raw",
   "metadata": {
    "vscode": {
     "languageId": "raw"
    }
   },
   "source": [
    "---\n",
    "title: \"Impressum\"\n",
    "jupyter: python3\n",
    "execute:\n",
    "  echo: false\n",
    "  output: asis\n",
    "---"
   ]
  },
  {
   "cell_type": "markdown",
   "metadata": {},
   "source": [
    "Veröffentlichungsmetadaten, die aus dem Thoth.pub GraphQL API. [https://api.thoth.pub/graphiql](https://api.thoth.pub/graphiql)"
   ]
  },
  {
   "cell_type": "code",
   "execution_count": 1,
   "metadata": {},
   "outputs": [
    {
     "name": "stdout",
     "output_type": "stream",
     "text": [
      "Katalog zur Ausstellung: Der Große Saal (Rittersaal)\n",
      "Weikersheim, Residenzschloss\n",
      "\n",
      "Open Science Lab - TIB\n",
      "Hannover\n",
      "\n",
      "First published 2024-04-16\n",
      "\n",
      "Copyright © The authors 2024\n",
      "Licensed as https://creativecommons.org/licenses/by-nc-nd/4.0/\n",
      "\n",
      "DOI: https://doi.org/10.5281/zenodo.10977822\n"
     ]
    }
   ],
   "source": [
    "from thothlibrary import ThothClient\n",
    "from datetime import datetime\n",
    "import json\n",
    "\n",
    "# variables\n",
    "work ='c0754292-d9e3-4c8d-81aa-91b0e26a93e4'\n",
    "\n",
    "# calling the Thoth GraphQL API\n",
    "thoth = ThothClient()\n",
    "response = thoth.work_by_id(work_id=work, raw='true')\n",
    "data = json.loads(response)\n",
    "\n",
    "print(data['data']['work']['title'])\n",
    "print(data['data']['work']['subtitle'])\n",
    "print('\\r')\n",
    "print(data['data']['work']['imprint']['publisher']['publisherName'])\n",
    "print(data['data']['work']['place'])\n",
    "print('\\r')\n",
    "print('First published ' + data['data']['work']['publicationDate'])\n",
    "print('\\r')\n",
    "print('Copyright © ' + data['data']['work']['copyrightHolder'] + ' ' + data['data']['work']['publicationDate'][:4])\n",
    "print('Licensed as ' + data['data']['work']['license'])\n",
    "print('\\r')\n",
    "print('DOI: ' + data['data']['work']['doi'])\n"
   ]
  }
 ],
 "metadata": {
  "kernelspec": {
   "display_name": "Python 3",
   "language": "python",
   "name": "python3"
  },
  "language_info": {
   "codemirror_mode": {
    "name": "ipython",
    "version": 3
   },
   "file_extension": ".py",
   "mimetype": "text/x-python",
   "name": "python",
   "nbconvert_exporter": "python",
   "pygments_lexer": "ipython3",
   "version": "3.10.13"
  },
  "orig_nbformat": 4,
  "vscode": {
   "interpreter": {
    "hash": "4f95cac2866d48a154725f15da66ad3889a01053732bcd1fedad154961939282"
   }
  }
 },
 "nbformat": 4,
 "nbformat_minor": 2
}
